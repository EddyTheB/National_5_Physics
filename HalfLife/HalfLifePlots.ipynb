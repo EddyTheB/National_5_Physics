{
 "cells": [
  {
   "cell_type": "code",
   "execution_count": 1,
   "id": "9e31a9c8",
   "metadata": {},
   "outputs": [],
   "source": [
    "%matplotlib inline\n",
    "import time\n",
    "import matplotlib as mpl\n",
    "import matplotlib.pylab as plt\n",
    "from matplotlib.animation import FuncAnimation\n",
    "import scipy.optimize as scop\n",
    "\n",
    "\n",
    "import numpy as np\n",
    "import random\n",
    "import seaborn as sns\n",
    "\n",
    "sns.set_style(\"dark\")\n"
   ]
  },
  {
   "cell_type": "code",
   "execution_count": 2,
   "id": "823a962f",
   "metadata": {},
   "outputs": [],
   "source": [
    "class Dice:\n",
    "    def __init__(self, d_max=6, d_min=1, pre_trigger=False):\n",
    "        self.d_max = d_max\n",
    "        self.d_min = d_min\n",
    "        if pre_trigger:\n",
    "            self.value = random.randint(self.d_min, self.d_max)\n",
    "        else:\n",
    "            self.value = random.randint(self.d_min, self.d_max-1)\n",
    "        if self.value == self.d_max:\n",
    "            self.done = True\n",
    "        else:\n",
    "            self.done = False        \n",
    "        \n",
    "    def roll(self):\n",
    "        if self.done:\n",
    "            return False\n",
    "        else:\n",
    "            self.value = random.randint(self.d_min, self.d_max)\n",
    "            if self.value == self.d_max:\n",
    "                self.done = True\n",
    "                return True\n",
    "            else:\n",
    "                self.done = False\n",
    "                return False\n",
    "        \n",
    "  \n",
    "\n",
    "class DiceArray:\n",
    "    def __init__(self, N=10, d_max=6, d_min=1, pre_trigger=False):\n",
    "        self.N = N\n",
    "        self.array = np.array([Dice(d_max=d_max, d_min=d_min, pre_trigger=pre_trigger) for i in range(N*N)])\n",
    "        \n",
    "    def values(self):\n",
    "        return np.array([d.value for d in self.array])\n",
    "    \n",
    "    def done(self):\n",
    "        return np.array([d.done for d in self.array])\n",
    "    \n",
    "    def roll(self):\n",
    "        c = 0\n",
    "        todo = self.array[~self.done()]\n",
    "        for d in todo:\n",
    "            c += d.roll()\n",
    "        return c\n",
    "    \n",
    "    def value_grid(self):\n",
    "        grid = np.reshape(self.values(), (self.N, self.N))\n",
    "        return grid \n",
    "    \n",
    "    def done_grid(self):\n",
    "        grid = np.reshape(self.done(), (self.N, self.N))\n",
    "        return grid \n",
    "    \n",
    "    def count_untriggered(self):\n",
    "        done = self.done()\n",
    "        return len(done) - sum(done)\n",
    "    "
   ]
  },
  {
   "cell_type": "code",
   "execution_count": 3,
   "id": "95e72dfb",
   "metadata": {},
   "outputs": [],
   "source": [
    "def roll_all(dice_array):\n",
    "    timesteps = []\n",
    "    activities = []\n",
    "    i = 0\n",
    "    while dice_array.count_untriggered() > 0:\n",
    "        i += 1\n",
    "        c = dice_array.roll()\n",
    "        timesteps.append(i)\n",
    "        activities.append(c)\n",
    "    return np.array(timesteps), np.array(activities)\n",
    "\n",
    "def monoExp(x, m, t):\n",
    "    return m * np.exp(-t * x)\n",
    "\n",
    "def plot_activity(timesteps, activities, trend_line=False, p0=10, p1=1):\n",
    "    sns.set_style(\"whitegrid\")\n",
    "    f, ax = plt.subplots()\n",
    "    ax.plot(timesteps, activities)\n",
    "    ax.set_ylabel('Activity (counts per timestep)')\n",
    "    ax.set_xlabel('Time Step')\n",
    "    if trend_line:\n",
    "        params, cv = scop.curve_fit(monoExp, timesteps, activities, (p0, p1))\n",
    "        print(params)\n",
    "        m, t = params\n",
    "        ax.plot(timesteps, monoExp(timesteps, m, t), 'k:')\n",
    "    plt.show()\n",
    "    \n",
    "\n",
    "def plot_rolls(dice_array, show_nums=True, fname='blah', start=0, end=-1, p0=10, p1=1):\n",
    "    sns.set_style(\"white\")\n",
    "    fig = plt.figure(figsize=(6,8))\n",
    "    ax1 = plt.subplot2grid((6, 3), (0, 0), colspan=3, rowspan=5)\n",
    "    ax2 = plt.subplot2grid((6, 3), (5, 0), colspan=3)\n",
    "    ax1.set_xticks([])\n",
    "    ax1.set_yticks([])\n",
    "    ax1.set_aspect('equal')#, adjustable='box')\n",
    "    ax2.set_ylabel('Activity')\n",
    "    ax2.set_xlabel('Time Step')\n",
    "    cmap = mpl.colors.ListedColormap(['firebrick', 'moccasin'])\n",
    "\n",
    "    timesteps = np.array([])\n",
    "    activities = np.array([])\n",
    "    \n",
    "    done_grid = dice_array.done_grid()\n",
    "    pcolors = ax1.pcolor(~done_grid, cmap=cmap)\n",
    "    \n",
    "    for timestep in range(9000):\n",
    "        if end > 0:\n",
    "            if timestep > end:\n",
    "                break\n",
    "        c = dice_array.roll()\n",
    "        done_grid = dice_array.done_grid()\n",
    "        if timestep < start:\n",
    "            continue\n",
    "        \n",
    "        activities = np.append(activities, c)\n",
    "        timesteps = np.append(timesteps, timestep-start)\n",
    "        \n",
    "        ax2.plot(timesteps, activities)\n",
    "        \n",
    "        ax1.pcolormesh(~done_grid, cmap=cmap)\n",
    "            \n",
    "        \n",
    "        if show_nums:\n",
    "            for t in ax1.texts:\n",
    "                t.set_visible(False)\n",
    "            value_grid = x.value_grid()\n",
    "            shp = np.shape(value_grid)\n",
    "            for xi in range(shp[0]):\n",
    "                for yi in range(shp[1]):\n",
    "                    ax1.text(yi+0.5, xi+0.5, value_grid[xi, yi], fontfamily='monospace')\n",
    "                    \n",
    "                    \n",
    "        plt.savefig('{}\\{}_ts{:04d}.jpg'.format(fname, fname, timestep), dpi=60)                \n",
    "        if dice_array.count_untriggered() == 0:\n",
    "            for _ in range(10):\n",
    "                plt.savefig('{}\\{}_ts{:04d}.jpg'.format(fname, fname,  timestep+1+_), dpi=60)\n",
    "            break\n",
    "\n",
    "\n",
    "    sns.set_style(\"whitegrid\")\n",
    "    f, ax3 = plt.subplots()\n",
    "    ax3.plot(timesteps, activities)\n",
    "    params, cv = scop.curve_fit(monoExp, timesteps, activities, (p0, p1))\n",
    "    m, t = params\n",
    "    ax3.plot(timesteps, monoExp(timesteps, m, t), 'k:')\n",
    "    ax3.set_ylabel('Activity (counts per timestep)')\n",
    "    ax3.set_xlabel('Time Step')\n",
    "    plt.savefig('{}\\{}_activity.jpg'.format(fname, fname, timestep+1+_))"
   ]
  },
  {
   "cell_type": "code",
   "execution_count": 4,
   "id": "07c49198",
   "metadata": {},
   "outputs": [],
   "source": [
    "N, d_max = 10, 6\n",
    "x = DiceArray(N=N, d_max=d_max)\n",
    "plot_rolls(x, show_nums=True, fname='{}x{}_{}'.format(N, N, d_max), p0=N*N/d_max, p1=1/N)"
   ]
  },
  {
   "cell_type": "code",
   "execution_count": 9,
   "id": "c097bba8",
   "metadata": {},
   "outputs": [],
   "source": [
    "N, d_max = 30, 6\n",
    "x = DiceArray(N=N, d_max=d_max)\n",
    "plot_rolls(x, show_nums=False, fname='{}x{}_{}'.format(N, N, d_max), p0=N*N/d_max, p1=1/N)"
   ]
  },
  {
   "cell_type": "code",
   "execution_count": 4,
   "id": "4127cfea",
   "metadata": {},
   "outputs": [],
   "source": [
    "N, d_max = 100, 6\n",
    "x = DiceArray(N=N, d_max=d_max)\n",
    "plot_rolls(x, show_nums=False, fname='{}x{}_{}'.format(N, N, d_max), p0=N*N/d_max, p1=1/N)"
   ]
  },
  {
   "cell_type": "code",
   "execution_count": 5,
   "id": "e211c918",
   "metadata": {},
   "outputs": [],
   "source": [
    "N, d_max = 300, 6\n",
    "x = DiceArray(N=N, d_max=d_max)\n",
    "plot_rolls(x, show_nums=False, fname='{}x{}_{}'.format(N, N, d_max), p0=N*N/d_max, p1=1/N)"
   ]
  },
  {
   "cell_type": "code",
   "execution_count": 6,
   "id": "076764ff",
   "metadata": {},
   "outputs": [],
   "source": [
    "N, d_max = 300, 12\n",
    "x = DiceArray(N=N, d_max=d_max)\n",
    "plot_rolls(x, show_nums=False, fname='{}x{}_{}'.format(N, N, d_max), p0=N*N/d_max, p1=1/N)"
   ]
  },
  {
   "cell_type": "code",
   "execution_count": 25,
   "id": "2cb4cbc5",
   "metadata": {},
   "outputs": [],
   "source": [
    "x06 = DiceArray(N=300, d_max=6)\n",
    "ts06, acs06 = roll_all(x06)\n",
    "ts06 = ts06-1\n",
    "\n",
    "x12 = DiceArray(N=300, d_max=12)\n",
    "ts12, acs12 = roll_all(x12)\n",
    "ts12 = ts12-1\n",
    "\n",
    "\n",
    "sns.set_style(\"whitegrid\")\n",
    "f, ax = plt.subplots()\n",
    "ax.plot(ts06, acs06, label='6-sided')\n",
    "#params, cv = scop.curve_fit(monoExp, ts06, acs06, (300.*300/6, 1/300.))\n",
    "#m, t = params\n",
    "#ax.plot(ts06, monoExp(ts06, m, t), 'k:')\n",
    "\n",
    "\n",
    "ax.plot(ts12, acs12, label='12-sided')\n",
    "#params, cv = scop.curve_fit(monoExp, ts12, acs12, (300.*300/12, 1/300.))\n",
    "#m, t = params\n",
    "#ax.plot(ts12, monoExp(ts12, m, t), 'k:')\n",
    "ax.legend()\n",
    "ax.set_ylabel('Activity (counts per timestep)')\n",
    "ax.set_xlabel('Time Step')\n",
    "ax.set_xlim([0,50])\n",
    "ax.set_xticks([0, 5, 10, 15, 20, 25, 30, 35, 40, 45, 50])\n",
    "plt.show()"
   ]
  },
  {
   "cell_type": "code",
   "execution_count": 22,
   "id": "35ac7659",
   "metadata": {},
   "outputs": [],
   "source": [
    "sns.set_style(\"whitegrid\")\n",
    "ax.set_xticks([0, 5, 10, 15, 20, 25, 30, 35, 40, 45, 50])\n",
    "plt.show()"
   ]
  },
  {
   "cell_type": "code",
   "execution_count": 23,
   "id": "38142685",
   "metadata": {},
   "outputs": [],
   "source": [
    "sns.set_style(\"whitegrid\")\n",
    "ax.set_xticks([0, 5, 10, 15, 20, 25, 30, 35, 40, 45, 50])\n",
    "plt.show()"
   ]
  },
  {
   "cell_type": "code",
   "execution_count": 24,
   "id": "dfd53088",
   "metadata": {},
   "outputs": [],
   "source": [
    "plt.show()"
   ]
  },
  {
   "cell_type": "code",
   "execution_count": 28,
   "id": "225b1af9",
   "metadata": {},
   "outputs": [
    {
     "name": "stdout",
     "output_type": "stream",
     "text": [
      "0.13862943611198908\n"
     ]
    },
    {
     "data": {
      "text/plain": [
       "Text(0.5, 0, 'Time (hours)')"
      ]
     },
     "execution_count": 28,
     "metadata": {},
     "output_type": "execute_result"
    },
    {
     "data": {
      "image/png": "[encoded data removed]",
      "text/plain": [
       "<Figure size 432x288 with 1 Axes>"
      ]
     },
     "metadata": {},
     "output_type": "display_data"
    }
   ],
   "source": [
    "peakBq = 80\n",
    "x = [0, 5, 10, 15, 20]\n",
    "y = [1000, 500, 250, 125, 62.5]\n",
    "params, cv = scop.curve_fit(monoExp, x, y, (1000, 0.014))\n",
    "m, t = params\n",
    "print(t)\n",
    "\n",
    "\n",
    "x = np.arange(101)\n",
    "sns.set_style(\"whitegrid\")\n",
    "f, ax = plt.subplots()\n",
    "ax.plot(x, monoExp(x, peakBq, t), 'r')\n",
    "ax.set_xticks(np.linspace(0, 25, 26))\n",
    "ax.set_xlim([0,25])\n",
    "ax.set_yticks(np.linspace(0, peakBq, 9))\n",
    "ax.set_ylabel('Activity (MBq)')\n",
    "ax.set_xlabel('Time (hours)')\n"
   ]
  },
  {
   "cell_type": "code",
   "execution_count": 36,
   "id": "7ea0de24",
   "metadata": {},
   "outputs": [
    {
     "name": "stdout",
     "output_type": "stream",
     "text": [
      "[600.0, 375.0, 240.0, 142.5, 90.0, 49.5]\n",
      "0.07863330539465913\n"
     ]
    },
    {
     "data": {
      "text/plain": [
       "Text(0.5, 0, 'Time (hours)')"
      ]
     },
     "execution_count": 36,
     "metadata": {},
     "output_type": "execute_result"
    },
    {
     "data": {
      "image/png": "[encoded data removed]",
      "text/plain": [
       "<Figure size 432x288 with 1 Axes>"
      ]
     },
     "metadata": {},
     "output_type": "display_data"
    }
   ],
   "source": [
    "peakBq = 600\n",
    "x_ = [0, 6, 12, 18, 24, 30]\n",
    "y_ = [600, 375, 240, 145, 90, 50]\n",
    "#y_ = [10.0, 6.25, 4.0, 2.375, 1.5, 0.825]\n",
    "#y = [y*60. for y in y_]\n",
    "print(y)\n",
    "params, cv = scop.curve_fit(monoExp, x_, y_, (600, 0.079))\n",
    "m, t = params\n",
    "print(t)\n",
    "\n",
    "\n",
    "x = np.arange(36)\n",
    "sns.set_style(\"whitegrid\")\n",
    "f, ax = plt.subplots()\n",
    "ax.plot(x, monoExp(x, peakBq, t), 'r')\n",
    "ax.scatter(x_, y_)\n",
    "ax.set_xticks(np.linspace(0, 35, 36))\n",
    "ax.set_xticklabels(['0', '', '', '', '', '5',\n",
    "                    '', '', '', '', '10',\n",
    "                   '', '', '', '', '15',\n",
    "                   '', '', '', '', '20',\n",
    "                   '', '', '', '', '25',\n",
    "                   '', '', '', '', '30',\n",
    "                   '', '', '', '', '35',])\n",
    "ax.set_xlim([0,35])\n",
    "ax.set_yticks(np.linspace(0, peakBq, 11))\n",
    "ax.set_yticklabels(['0', '', '2', '', '4', '', '6', '', '8', '', '10'])\n",
    "ax.set_ylabel('Activity (MBq)')\n",
    "ax.set_xlabel('Time (hours)')"
   ]
  },
  {
   "cell_type": "code",
   "execution_count": 7,
   "id": "332f0b6c",
   "metadata": {},
   "outputs": [
    {
     "name": "stdout",
     "output_type": "stream",
     "text": [
      "0.016986881315464337\n"
     ]
    },
    {
     "data": {
      "text/plain": [
       "Text(0.5, 0, 'Time (minutes)')"
      ]
     },
     "execution_count": 7,
     "metadata": {},
     "output_type": "execute_result"
    },
    {
     "data": {
      "image/png": "[encoded data removed]",
      "text/plain": [
       "<Figure size 432x288 with 1 Axes>"
      ]
     },
     "metadata": {},
     "output_type": "display_data"
    }
   ],
   "source": [
    "peakBq = 40\n",
    "x_ = [0, 20, 40, 60, 80, 100]\n",
    "y_ = [40.0, 28.0, 20.1, 15.0, 10.1, 7.1]\n",
    "params, cv = scop.curve_fit(monoExp, x_, y_, (40, 0.079))\n",
    "m, t = params\n",
    "print(t)\n",
    "\n",
    "\n",
    "x = np.arange(101)\n",
    "sns.set_style(\"whitegrid\")\n",
    "f, ax = plt.subplots()\n",
    "ax.plot(x, monoExp(x, peakBq, t), 'r')\n",
    "ax.scatter(x_, y_)\n",
    "ax.set_xticks(np.linspace(0, 100, 21))\n",
    "ax.set_xticklabels(['0', '', '10', '', '20',\n",
    "                    '', '30', '', '40',\n",
    "                    '', '50', '', '60',\n",
    "                    '', '70', '', '80',\n",
    "                    '', '90', '', '100',])\n",
    "ax.set_xlim([0,100])\n",
    "ax.set_yticks(np.linspace(0, peakBq, 17))\n",
    "ax.set_yticklabels(['0', '', '', '', '10',\n",
    "                    '', '', '', '20',\n",
    "                   '', '', '', '30',\n",
    "                   '', '', '', '40',])\n",
    "ax.set_ylabel('Activity (Bq)')\n",
    "ax.set_xlabel('Time (minutes)')"
   ]
  },
  {
   "cell_type": "code",
   "execution_count": 28,
   "id": "7f86d2be",
   "metadata": {},
   "outputs": [
    {
     "data": {
      "text/plain": [
       "Text(0.5, 0, 'Time (hours)')"
      ]
     },
     "execution_count": 28,
     "metadata": {},
     "output_type": "execute_result"
    },
    {
     "data": {
      "image/png": "[encoded data removed]",
      "text/plain": [
       "<Figure size 432x288 with 1 Axes>"
      ]
     },
     "metadata": {},
     "output_type": "display_data"
    }
   ],
   "source": [
    "peakBq = 80\n",
    "x = [0, 5, 10, 15, 20]\n",
    "y = [1000, 800, 125, 250, 500, 1000]\n",
    "\n",
    "def ffff(x, m, t, b):\n",
    "    return b + m * x ** t\n",
    "\n",
    "\n",
    "x = np.arange(101)\n",
    "sns.set_style(\"whitegrid\")\n",
    "f, ax = plt.subplots()\n",
    "ax.plot(x, ffff(x, -1, 2.1, 1000), 'r')\n",
    "ax.set_xticks(np.linspace(0, 25, 26))\n",
    "ax.set_xlim([0,25])\n",
    "ax.set_ylim([0,2000])\n",
    "#ax.set_yticks(np.linspace(0, peakBq, 9))\n",
    "ax.set_ylabel('Activity (MBq)')\n",
    "ax.set_xlabel('Time (hours)')"
   ]
  },
  {
   "cell_type": "code",
   "execution_count": 22,
   "id": "b3bc8b31",
   "metadata": {},
   "outputs": [
    {
     "name": "stdout",
     "output_type": "stream",
     "text": [
      "-40.0 1000.0\n"
     ]
    },
    {
     "data": {
      "text/plain": [
       "Text(0.5, 0, 'Time (hours)')"
      ]
     },
     "execution_count": 22,
     "metadata": {},
     "output_type": "execute_result"
    },
    {
     "data": {
      "image/png": "[encoded data removed]",
      "text/plain": [
       "<Figure size 432x288 with 1 Axes>"
      ]
     },
     "metadata": {},
     "output_type": "display_data"
    }
   ],
   "source": [
    "peakBq = 80\n",
    "x = [0, 5, 10, 15, 20]\n",
    "y = [1000, 800, 600, 400, 200]\n",
    "\n",
    "def ffff(x, m, b):\n",
    "    return b + m * x\n",
    "params, cv = scop.curve_fit(ffff, x, y, (1000, -40))\n",
    "m, b = params\n",
    "print(m, b)\n",
    "\n",
    "\n",
    "x = np.arange(101)\n",
    "sns.set_style(\"whitegrid\")\n",
    "f, ax = plt.subplots()\n",
    "ax.plot(x, ffff(x, m, b), 'r')\n",
    "ax.set_xticks(np.linspace(0, 25, 26))\n",
    "ax.set_xlim([0,25])\n",
    "ax.set_ylim([0,1100])\n",
    "#ax.set_yticks(np.linspace(0, peakBq, 9))\n",
    "ax.set_ylabel('Activity (MBq)')\n",
    "ax.set_xlabel('Time (hours)')"
   ]
  },
  {
   "cell_type": "code",
   "execution_count": null,
   "id": "d67576d8",
   "metadata": {},
   "outputs": [],
   "source": []
  }
 ],
 "metadata": {
  "kernelspec": {
   "display_name": "Python 3 (ipykernel)",
   "language": "python",
   "name": "python3"
  },
  "language_info": {
   "codemirror_mode": {
    "name": "ipython",
    "version": 3
   },
   "file_extension": ".py",
   "mimetype": "text/x-python",
   "name": "python",
   "nbconvert_exporter": "python",
   "pygments_lexer": "ipython3",
   "version": "3.8.11"
  }
 },
 "nbformat": 4,
 "nbformat_minor": 5
}
